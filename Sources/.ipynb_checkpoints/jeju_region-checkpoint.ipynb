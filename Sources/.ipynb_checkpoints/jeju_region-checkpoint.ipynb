{
 "cells": [
  {
   "cell_type": "code",
   "execution_count": 48,
   "id": "49818ba3",
   "metadata": {},
   "outputs": [],
   "source": [
    "# 구역별 분류\n",
    "# 1구역 - 제주시\n",
    "jeju1 = ['일도일동', '일도이동', '이도일동', '이도이동', '삼도일동',\n",
    "        '삼도이동', '건입동', '용담일동', '용담이동', '도두동', '이호동',\n",
    "        '외도동', '노형동', '연동', '오라동', '아라동', '화북동', '삼양동',\n",
    "        '봉개동']\n",
    "\n",
    "# 2구역 - 제주서부\n",
    "jeju2 = ['애월읍', '한림읍', '한경면', '대정읍', '안덕면']\n",
    "\n",
    "# 3구역 - 서귀포시\n",
    "jeju3 = ['중앙동', '정방동', '천지동', '예래동', '중문동', '대천동',\n",
    "        '대륜동', '서홍동', '동홍동', '영천동', '송산동', '효돈동']\n",
    "\n",
    "# 4구역 - 제주동부\n",
    "jeju4 = ['조천읍', '구좌읍', '남원읍', '표선면', '성산읍', '구좌읍', '우도면']"
   ]
  },
  {
   "cell_type": "code",
   "execution_count": null,
   "id": "b39651a7",
   "metadata": {},
   "outputs": [],
   "source": []
  }
 ],
 "metadata": {
  "kernelspec": {
   "display_name": "Python 3 (ipykernel)",
   "language": "python",
   "name": "python3"
  },
  "language_info": {
   "codemirror_mode": {
    "name": "ipython",
    "version": 3
   },
   "file_extension": ".py",
   "mimetype": "text/x-python",
   "name": "python",
   "nbconvert_exporter": "python",
   "pygments_lexer": "ipython3",
   "version": "3.11.4"
  }
 },
 "nbformat": 4,
 "nbformat_minor": 5
}
